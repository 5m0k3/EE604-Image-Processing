{
 "cells": [
  {
   "cell_type": "code",
   "execution_count": null,
   "metadata": {},
   "outputs": [],
   "source": [
    "# Copyright 2020 IITK EE604A Image Processing. All Rights Reserved.\n",
    "# \n",
    "# Licensed under the MIT License. Use and/or modification of this code outside of EE604 must reference:\n",
    "#\n",
    "# © IITK EE604A Image Processing \n",
    "# https://github.com/ee604/ee604_assignments\n",
    "#\n",
    "# Author: Shashi Kant Gupta, Chiranjeev Prachand and Prof K. S. Venkatesh, Department of Electrical Engineering, IIT Kanpur"
   ]
  },
  {
   "cell_type": "markdown",
   "metadata": {},
   "source": [
    "# Task 4 (Bonus Question): Video Stabilization\n",
    "\n",
    "For this bonus question, you have to search and find a suitable solution to stabilize the provided shaky video. You are free to follow any approach/method or python modules to do this. Unless until following conditions satisfy:\n",
    "\n",
    "* Any modules which you use should not be a direct implementation.\n",
    "* By \"stabilization,\" we do not mean a perfect solution. But it should be satisfactorily better than the original video."
   ]
  },
  {
   "cell_type": "code",
   "execution_count": null,
   "metadata": {},
   "outputs": [],
   "source": [
    "%%bash\n",
    "pip install git+https://github.com/ee604/ee604_plugins\n",
    "pip install git+https://github.com/shashikg/google_colab_plugins\n",
    "mkdir output"
   ]
  },
  {
   "cell_type": "code",
   "execution_count": null,
   "metadata": {},
   "outputs": [],
   "source": [
    "# Importing required libraries\n",
    "\n",
    "import cv2\n",
    "import numpy as np\n",
    "from IPython.display import display\n",
    "from PIL import Image\n",
    "import matplotlib.pyplot as plt\n",
    "from google_colab_plugins import playVideo\n",
    "\n",
    "from ee604_plugins import download_dataset\n",
    "\n",
    "download_dataset(assignment_no=4, task_no=4)"
   ]
  },
  {
   "cell_type": "code",
   "execution_count": null,
   "metadata": {},
   "outputs": [],
   "source": [
    "orig_video_dir = \"data/shaky_video.mp4\"\n",
    "stab_video_dir = \"output/stab_video.mp4\"\n",
    "\n",
    "print(\"Original shaky video\")\n",
    "playVideo(filename=orig_video_dir)"
   ]
  },
  {
   "cell_type": "code",
   "execution_count": null,
   "metadata": {},
   "outputs": [],
   "source": [
    "# Use the provided area to write your algorithm.\n",
    "# Original video directory and filename: `orig_video_dir`\n",
    "# Must save your stablized video inside output folder with name stab_video.mp4 | Use `stab_video_dir`\n",
    "\n",
    "#############################\n",
    "# Start your code from here #\n",
    "#############################\n",
    "\n",
    "# Replace with your code...\n",
    "\n",
    "#############################\n",
    "# End your code here ########\n",
    "#############################"
   ]
  },
  {
   "cell_type": "code",
   "execution_count": null,
   "metadata": {},
   "outputs": [],
   "source": [
    "print(\"Stabilized video\")\n",
    "playVideo(filename=stab_video_dir)"
   ]
  }
 ],
 "metadata": {
  "kernelspec": {
   "display_name": "Python 3",
   "language": "python",
   "name": "python3"
  },
  "language_info": {
   "codemirror_mode": {
    "name": "ipython",
    "version": 3
   },
   "file_extension": ".py",
   "mimetype": "text/x-python",
   "name": "python",
   "nbconvert_exporter": "python",
   "pygments_lexer": "ipython3",
   "version": "3.7.6"
  }
 },
 "nbformat": 4,
 "nbformat_minor": 4
}
