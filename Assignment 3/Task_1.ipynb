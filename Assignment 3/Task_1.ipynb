{
  "nbformat": 4,
  "nbformat_minor": 0,
  "metadata": {
    "kernelspec": {
      "display_name": "Python 3",
      "language": "python",
      "name": "python3"
    },
    "language_info": {
      "codemirror_mode": {
        "name": "ipython",
        "version": 3
      },
      "file_extension": ".py",
      "mimetype": "text/x-python",
      "name": "python",
      "nbconvert_exporter": "python",
      "pygments_lexer": "ipython3",
      "version": "3.7.6"
    },
    "colab": {
      "name": "Copy of ass3_Task_1.ipynb",
      "provenance": [],
      "collapsed_sections": []
    }
  },
  "cells": [
    {
      "cell_type": "code",
      "metadata": {
        "id": "Wonu74ZCfprF"
      },
      "source": [
        "# Copyright 2020 IITK EE604A Image Processing. All Rights Reserved.\n",
        "# \n",
        "# Licensed under the MIT License. Use and/or modification of this code outside of EE604 must reference:\n",
        "#\n",
        "# © IITK EE604A Image Processing \n",
        "# https://github.com/ee604/ee604_assignments\n",
        "#\n",
        "# Author: Shashi Kant Gupta, Chiranjeev Prachand and Prof K. S. Venkatesh, Department of Electrical Engineering, IIT Kanpur"
      ],
      "execution_count": 1,
      "outputs": []
    },
    {
      "cell_type": "markdown",
      "metadata": {
        "id": "IH7kt5xXfprF"
      },
      "source": [
        "# Task 1: Frequency Domain Analysis - Resizing\n",
        "\n",
        "Remember, we already did this using operation in the spatial domain (interpolation methods)? Now let's do the same thing using frequency domain analysis."
      ]
    },
    {
      "cell_type": "code",
      "metadata": {
        "id": "-0VtOkmvfprF",
        "colab": {
          "base_uri": "https://localhost:8080/"
        },
        "outputId": "2bcf65e1-fd97-4219-f35f-c897a5c35302"
      },
      "source": [
        "%%bash\n",
        "pip install git+https://github.com/ee604/ee604_plugins"
      ],
      "execution_count": 2,
      "outputs": [
        {
          "output_type": "stream",
          "text": [
            "Collecting git+https://github.com/ee604/ee604_plugins\n",
            "  Cloning https://github.com/ee604/ee604_plugins to /tmp/pip-req-build-ptp5xj80\n",
            "Requirement already satisfied (use --upgrade to upgrade): ee604-plugins==0.3.2 from git+https://github.com/ee604/ee604_plugins in /usr/local/lib/python3.6/dist-packages\n",
            "Building wheels for collected packages: ee604-plugins\n",
            "  Building wheel for ee604-plugins (setup.py): started\n",
            "  Building wheel for ee604-plugins (setup.py): finished with status 'done'\n",
            "  Created wheel for ee604-plugins: filename=ee604_plugins-0.3.2-cp36-none-any.whl size=2311 sha256=bc0d04728879419264921285b8f0856a19cd2940a63ebc420dda800b42eac499\n",
            "  Stored in directory: /tmp/pip-ephem-wheel-cache-b8bx5uk3/wheels/34/a8/1d/ae3b7d209ecde89b4800a47ec55a61e7503bb9548bbb975806\n",
            "Successfully built ee604-plugins\n"
          ],
          "name": "stdout"
        },
        {
          "output_type": "stream",
          "text": [
            "  Running command git clone -q https://github.com/ee604/ee604_plugins /tmp/pip-req-build-ptp5xj80\n"
          ],
          "name": "stderr"
        }
      ]
    },
    {
      "cell_type": "code",
      "metadata": {
        "id": "x1iwnv-RfprF",
        "colab": {
          "base_uri": "https://localhost:8080/"
        },
        "outputId": "566216ab-88be-4e7d-e0bf-57c3da6aefe6"
      },
      "source": [
        "# Importing required libraries\n",
        "\n",
        "import cv2\n",
        "import numpy as np\n",
        "import matplotlib.pyplot as plt\n",
        "\n",
        "from ee604_plugins import download_dataset, cv2_imshow\n",
        "\n",
        "download_dataset(assignment_no=3, task_no=1) # download data for this assignment"
      ],
      "execution_count": 3,
      "outputs": [
        {
          "output_type": "stream",
          "text": [
            "Download Complete!\n"
          ],
          "name": "stdout"
        }
      ]
    },
    {
      "cell_type": "code",
      "metadata": {
        "id": "91qKhi4nfprF"
      },
      "source": [
        "def resize_ft(img, k=1):\n",
        "    '''\n",
        "    Write a program to resize the given image by a factor 'k' using frequency domain analysis.\n",
        "    \n",
        "    Inputs:\n",
        "    + img - Original image\n",
        "    + k - resampling factor, therefore if input image size is 300x300 \n",
        "        - and k=0.5 ==> output image size = 150x150\n",
        "        - use int(k*input_image_size) to find the nearest integer\n",
        "    \n",
        "    Ouputs:\n",
        "    + out_img - numpy array (of dtype np.uint8) containing the output image.\n",
        "              - range should be between (0, 255) which may not be the case when u run the inverse DFT. \n",
        "              - Therefore, normalise the image by img = (img - min(img))/max(img) to rescale the values to (0, 255)\n",
        "    \n",
        "    Allowed external package:\n",
        "    + You are allowed to use any cv2.dft or cv2.idft module or any other suitable module in numpy and cv2 \n",
        "    + Just make sure you do not use any direct implementation.\n",
        "    \n",
        "    Hints:\n",
        "    + For upscaling - pad the frquency domain signal with zeros around the center of the image. \n",
        "    + For downscaling - crop the frequency domain signal at the centre of required size.\n",
        "    + PS - Make sure to use proper shift operation on output of cv2.dft so that your frequency domain signal \n",
        "         - assumes the centre of the image to be origin\n",
        "    \n",
        "    '''\n",
        "    \n",
        "    #############################\n",
        "    # Start your code from here #\n",
        "    #############################\n",
        "\n",
        "    X, Y = img.shape\n",
        "    newX, newY = int(k*X), int(k*Y)\n",
        "\n",
        "    imgf = np.fft.fft2(img)\n",
        "    imgf = np.fft.fftshift(imgf)  \n",
        "\n",
        "    if k < 1:\n",
        "        if newX % 2 == 1:\n",
        "            imgf = imgf[int((X-newX)/2) + 1: X - int((X-newX)/2), int((Y-newY)/2) + 1: Y - int((Y-newY)/2)]\n",
        "        else:\n",
        "            imgf = imgf[int((X-newX)/2) : X - int((X-newX)/2) , int((Y-newY)/2) : Y - int((Y-newY)/2)]\n",
        "\n",
        "    else:\n",
        "        if newX % 2 == 1:\n",
        "            imgf = np.pad(imgf, ((int((newX-X)/2), int((newX-X)/2)+1), (int((newY-Y)/2), int((newY-Y)/2)+1)))\n",
        "        else:\n",
        "            imgf = np.pad(imgf, ((int((newX-X)/2), int((newX-X)/2)), (int((newY-Y)/2), int((newY-Y)/2))))\n",
        "        \n",
        "\n",
        "    imgf = np.fft.ifftshift(imgf)\n",
        "    imgf = np.fft.ifft2(imgf)\n",
        "\n",
        "    out_img = np.abs(255 * ((imgf - np.min(imgf)) / np.max(imgf)))\n",
        "\n",
        "    #############################\n",
        "    # End your code here ########\n",
        "    #############################    \n",
        "    \n",
        "    return out_img"
      ],
      "execution_count": 4,
      "outputs": []
    },
    {
      "cell_type": "markdown",
      "metadata": {
        "id": "KGDJYJfEfprF"
      },
      "source": [
        "### Observations"
      ]
    },
    {
      "cell_type": "code",
      "metadata": {
        "id": "gvhBQKVifprF",
        "colab": {
          "base_uri": "https://localhost:8080/",
          "height": 1000
        },
        "outputId": "ba18db9e-7998-40f9-962b-4e9affcedbd7"
      },
      "source": [
        "# Do not change codes inside this cell\n",
        "# Add your observations in next cell\n",
        "# Your observation should compare the output for different values of k\n",
        "\n",
        "data = cv2.imread(\"data/parallel_lines.jpg\", 0)\n",
        "\n",
        "print(\"Original\")\n",
        "cv2_imshow(data)\n",
        "\n",
        "for k in [0.49, 0.5, 0.51, 1.96, 2, 2.04]:\n",
        "    tmp = resize_ft(data, k=k)\n",
        "    print(\" k = \" + str(k))\n",
        "    cv2_imshow(tmp)"
      ],
      "execution_count": 5,
      "outputs": [
        {
          "output_type": "stream",
          "text": [
            "Original\n"
          ],
          "name": "stdout"
        },
        {
          "output_type": "display_data",
          "data": {
            "image/png": "[encoded data removed]",
            "text/plain": [
              "<PIL.Image.Image image mode=L size=512x512 at 0x7FEC40605160>"
            ]
          },
          "metadata": {
            "tags": []
          }
        },
        {
          "output_type": "stream",
          "text": [
            " k = 0.49\n"
          ],
          "name": "stdout"
        },
        {
          "output_type": "display_data",
          "data": {
            "image/png": "[encoded data removed]",
            "text/plain": [
              "<PIL.Image.Image image mode=L size=250x250 at 0x7FEC405E6198>"
            ]
          },
          "metadata": {
            "tags": []
          }
        },
        {
          "output_type": "stream",
          "text": [
            " k = 0.5\n"
          ],
          "name": "stdout"
        },
        {
          "output_type": "display_data",
          "data": {
            "image/png": "[encoded data removed]",
            "text/plain": [
              "<PIL.Image.Image image mode=L size=256x256 at 0x7FEC405E65F8>"
            ]
          },
          "metadata": {
            "tags": []
          }
        },
        {
          "output_type": "stream",
          "text": [
            " k = 0.51\n"
          ],
          "name": "stdout"
        },
        {
          "output_type": "display_data",
          "data": {
            "image/png": "[encoded data removed]",
            "text/plain": [
              "<PIL.Image.Image image mode=L size=261x261 at 0x7FEC405E6198>"
            ]
          },
          "metadata": {
            "tags": []
          }
        },
        {
          "output_type": "stream",
          "text": [
            " k = 1.96\n"
          ],
          "name": "stdout"
        },
        {
          "output_type": "display_data",
          "data": {
            "image/png": "[encoded data removed]",
            "text/plain": [
              "<PIL.Image.Image image mode=L size=1003x1003 at 0x7FEC405E65F8>"
            ]
          },
          "metadata": {
            "tags": []
          }
        },
        {
          "output_type": "stream",
          "text": [
            " k = 2\n"
          ],
          "name": "stdout"
        },
        {
          "output_type": "display_data",
          "data": {
            "image/png": "[encoded data removed]",
            "text/plain": [
              "<PIL.Image.Image image mode=L size=1024x1024 at 0x7FEC405E6A90>"
            ]
          },
          "metadata": {
            "tags": []
          }
        },
        {
          "output_type": "stream",
          "text": [
            " k = 2.04\n"
          ],
          "name": "stdout"
        },
        {
          "output_type": "display_data",
          "data": {
            "image/png": "[encoded data removed]",
            "text/plain": [
              "<PIL.Image.Image image mode=L size=1044x1044 at 0x7FEC405E6198>"
            ]
          },
          "metadata": {
            "tags": []
          }
        }
      ]
    },
    {
      "cell_type": "code",
      "metadata": {
        "id": "IJ6_UCBrfprF",
        "outputId": "90f2776f-7960-49f7-b671-6614d0a1b815",
        "colab": {
          "base_uri": "https://localhost:8080/"
        }
      },
      "source": [
        "your_observation = \"\"\"\n",
        "All resized images seem to be fine except for k = 0.49 perhaps because it was < 0.5 and signal is completely lost on that much shrinkage\n",
        "\"\"\"\n",
        "\n",
        "print(your_observation)"
      ],
      "execution_count": 6,
      "outputs": [
        {
          "output_type": "stream",
          "text": [
            "\n",
            "All resized images seem to be fine except for k = 0.49 perhaps because it was < 0.5 and signal is completely lost on that much shrinkage\n",
            "\n"
          ],
          "name": "stdout"
        }
      ]
    },
    {
      "cell_type": "code",
      "metadata": {
        "id": "f9bGw_BTfprF"
      },
      "source": [
        "# Submission >>>>>>>>>>>>>>>>>>>>>\n",
        "# Do not change codes inside this cell.\n",
        "\n",
        "gen_imgs = []\n",
        "data = cv2.imread(\"data/parallel_lines.jpg\", 0)\n",
        "\n",
        "for k in [0.49, 0.5, 0.51, 1.96, 2, 2.04]:\n",
        "    tmp = resize_ft(data, k=k)\n",
        "    gen_imgs.append(tmp)\n",
        "\n",
        "task1_submission = np.array(gen_imgs)"
      ],
      "execution_count": 7,
      "outputs": []
    },
    {
      "cell_type": "code",
      "metadata": {
        "id": "ws1T6xPmfprF"
      },
      "source": [
        ""
      ],
      "execution_count": 7,
      "outputs": []
    }
  ]
}