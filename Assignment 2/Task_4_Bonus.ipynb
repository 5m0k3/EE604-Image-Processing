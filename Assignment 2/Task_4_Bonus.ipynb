{
 "cells": [
  {
   "cell_type": "code",
   "execution_count": null,
   "metadata": {},
   "outputs": [],
   "source": [
    "# Copyright 2020 IITK EE604A Image Processing. All Rights Reserved.\n",
    "# \n",
    "# Licensed under the MIT License. Use and/or modification of this code outside of EE604 must reference:\n",
    "#\n",
    "# © IITK EE604A Image Processing \n",
    "# https://github.com/ee604/ee604_assignments\n",
    "#\n",
    "# Author: Shashi Kant Gupta, Chiranjeev Prachand and Prof K. S. Venkatesh, Department of Electrical Engineering, IIT Kanpur"
   ]
  },
  {
   "cell_type": "markdown",
   "metadata": {},
   "source": [
    "# Task 4 (Bonus Question): Template Matching and Visual Search\n",
    "\n",
    "In this bonus task, you will study about template matching algorithm, which is used to search and find a template image in a larger image. You will then use this method and techniques you learned in task1, task2, and task3 to search for a given \"target\" image in a large cluttered \"search\" image. This task of finding a target image is usually called a visual search task.\n",
    "\n",
    "In this assignment, you will be using this method in a preliminary setting. But this method can be easily generalized to complex visual search tasks. Instead of directly using the image pixels, you first extract features of those images using some deep learning methods or other computer vision algorithms and then apply the template matching method on extracted features instead of the image pixels.\n",
    "\n",
    "**Theories:** \n",
    "* Template Matching: [http://www.cse.psu.edu/~rtc12/CSE486/lecture07.pdf](http://www.cse.psu.edu/~rtc12/CSE486/lecture07.pdf)\n",
    "* Tempalte Matching (Optional): [https://docs.adaptive-vision.com/4.7/studio/machine_vision_guide/TemplateMatching.html](https://docs.adaptive-vision.com/4.7/studio/machine_vision_guide/TemplateMatching.html)\n",
    "* Template Matching Wikipedia: [https://en.wikipedia.org/wiki/Template_matching](https://en.wikipedia.org/wiki/Template_matching)\n",
    "* Visual Search (Optional): [http://www.scholarpedia.org/article/Visual_search](http://www.scholarpedia.org/article/Visual_search)\n",
    "\n",
    "---\n",
    "\n",
    "### Your Task\n",
    "You will be given a set of visual search tasks containing 156 various target images to search in 156 corresponding search images. All image contains only English alphabets. You have to write a python function that will return the (x, y) position of the target in the given search image. You have to use the template matching approach to find the location of the target image. But there's a problem, somehow the provided dataset got corrupted, and it contains lots of noises in it. Smartly using some image enhancement methods to make the images clearer and then applying template matching algorithms could help. It's up to you how you use the techniques taught in EE604 lectures to get the best score. Your score will be evaluated as `score = num_correct_prediction/156`\n",
    "\n",
    "* Assume the target image is of the same size in the search image.\n",
    "* Assume the target image is in the same orientation in the search image.\n",
    "* You are free to use any OpenCV module except `cv2.matchTemplate()`.\n",
    "\n",
    "**Example of Visual Search Task:**\n",
    "![](https://github.com/ee604/ee604_assignments/raw/master/assignment_2/imgs/Example.png)\n",
    "\n",
    "---"
   ]
  },
  {
   "cell_type": "code",
   "execution_count": null,
   "metadata": {},
   "outputs": [],
   "source": [
    "%%bash\n",
    "pip install git+https://github.com/ee604/ee604_plugins"
   ]
  },
  {
   "cell_type": "code",
   "execution_count": null,
   "metadata": {},
   "outputs": [],
   "source": [
    "# Importing required libraries\n",
    "\n",
    "import cv2\n",
    "import numpy as np\n",
    "from IPython.display import display\n",
    "from PIL import Image\n",
    "import matplotlib.pyplot as plt\n",
    "\n",
    "from ee604_plugins import download_dataset\n",
    "\n",
    "download_dataset(assignment_no=2, task_no=4)"
   ]
  },
  {
   "cell_type": "code",
   "execution_count": null,
   "metadata": {},
   "outputs": [],
   "source": [
    "X_img = np.load(\"data/search_img.npy\")\n",
    "Y_img = np.load(\"data/target_img.npy\")\n",
    "M_img = np.load(\"data/mask_img.npy\")\n",
    "\n",
    "sample_target = np.copy(Y_img[0])\n",
    "sample_search = np.copy(X_img[0])"
   ]
  },
  {
   "cell_type": "code",
   "execution_count": null,
   "metadata": {},
   "outputs": [],
   "source": [
    "# Do not change codes inside this cell\n",
    "\n",
    "def calc_search_score():\n",
    "    c = 0 \n",
    "    for k in range(len(X_img)):\n",
    "        x, y = searchTarget(np.copy(X_img[k]), np.copy(Y_img[k]))\n",
    "        c += M_img[k][x, y]\n",
    "    \n",
    "    return round(c/len(X_img), 2)"
   ]
  },
  {
   "cell_type": "code",
   "execution_count": null,
   "metadata": {},
   "outputs": [],
   "source": [
    "def searchTarget(search_img, target_img):\n",
    "    '''    \n",
    "    Inputs:                      \n",
    "    + search_img - image in which you have to search for the target, size = (512, 512) ==> (dim1, dim2)\n",
    "    + target_img - target image, size = (55, 55)\n",
    "    \n",
    "    Ouputs:\n",
    "    + x - index along the first dimension ('dim1') of the search image where the target is present\n",
    "    + y - index along the second dimension ('dim2') of the search image where the target is present\n",
    "    \n",
    "    Allowed external package:\n",
    "    + You are free to use any OpenCV/numpy module except 'cv2.matchTemplate()'.\n",
    "    \n",
    "    Hint:\n",
    "    + Make sure you properly map the index with respect to input image size i.e. (512, 512). \n",
    "      Generally convolution/ correlation operation will reduce your output size by the size \n",
    "      of templated image.\n",
    "    + Correlation operation can be written in terms of convolution operator.\n",
    "    + Use OpenCV's cv2.matchTemplate() to know which method works best and implement corresponding\n",
    "      method using other openCV modules.\n",
    "    + This algorithm can be implemented using the functions you wrote/ used for other three tasks.\n",
    "    \n",
    "    '''\n",
    "    x, y = 0, 0\n",
    "    \n",
    "    #############################\n",
    "    # Start your code from here #\n",
    "    #############################\n",
    "    \n",
    "    # Replace with your code...\n",
    "    \n",
    "    #############################\n",
    "    # End your code here ########\n",
    "    ############################# \n",
    "    \n",
    "    return x, y"
   ]
  },
  {
   "cell_type": "code",
   "execution_count": null,
   "metadata": {},
   "outputs": [],
   "source": [
    "# Do not change codes inside this cell\n",
    "score = calc_search_score()\n",
    "print(\"Your score:\", score)"
   ]
  },
  {
   "cell_type": "code",
   "execution_count": null,
   "metadata": {},
   "outputs": [],
   "source": []
  }
 ],
 "metadata": {
  "kernelspec": {
   "display_name": "Python 3",
   "language": "python",
   "name": "python3"
  },
  "language_info": {
   "codemirror_mode": {
    "name": "ipython",
    "version": 3
   },
   "file_extension": ".py",
   "mimetype": "text/x-python",
   "name": "python",
   "nbconvert_exporter": "python",
   "pygments_lexer": "ipython3",
   "version": "3.7.6"
  }
 },
 "nbformat": 4,
 "nbformat_minor": 4
}
