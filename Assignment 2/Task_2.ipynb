{
 "cells": [
  {
   "cell_type": "code",
   "execution_count": null,
   "metadata": {},
   "outputs": [],
   "source": [
    "# Copyright 2020 IITK EE604A Image Processing. All Rights Reserved.\n",
    "# \n",
    "# Licensed under the MIT License. Use and/or modification of this code outside of EE604 must reference:\n",
    "#\n",
    "# © IITK EE604A Image Processing \n",
    "# https://github.com/ee604/ee604_assignments\n",
    "#\n",
    "# Author: Shashi Kant Gupta, Chiranjeev Prachand and Prof K. S. Venkatesh, Department of Electrical Engineering, IIT Kanpur"
   ]
  },
  {
   "cell_type": "markdown",
   "metadata": {},
   "source": [
    "# Task 2: Image Enhancement II: Spatial Smoothing\n",
    "\n",
    "In this task, we will implement average, gaussian, and median spatial filter."
   ]
  },
  {
   "cell_type": "code",
   "execution_count": null,
   "metadata": {},
   "outputs": [],
   "source": [
    "%%bash\n",
    "pip install git+https://github.com/ee604/ee604_plugins"
   ]
  },
  {
   "cell_type": "code",
   "execution_count": null,
   "metadata": {},
   "outputs": [],
   "source": [
    "# Importing required libraries\n",
    "\n",
    "import cv2\n",
    "import numpy as np\n",
    "import matplotlib.pyplot as plt\n",
    "\n",
    "from ee604_plugins import download_dataset, cv2_imshow\n",
    "download_dataset(assignment_no=2, task_no=2) # download data for this assignment"
   ]
  },
  {
   "cell_type": "code",
   "execution_count": null,
   "metadata": {},
   "outputs": [],
   "source": [
    "def avgFilter(img, kernel_size=7):\n",
    "    '''\n",
    "    Write a program to implement average filter. You have to assume square kernels.\n",
    "    \n",
    "    Inputs:\n",
    "    + img - grayscaled image of size N x N\n",
    "          - values between [0, 255] - 'uint8'\n",
    "    + kernel_size - size of the kernel window which should be used for averaging.\n",
    "    \n",
    "    Ouputs:\n",
    "    + out_img - smoothed grayscaled image of size N x N\n",
    "              - values between [0, 255] - 'uint8'\n",
    "    \n",
    "    Allowed modules:\n",
    "    + Basic numpy operations\n",
    "    + cv2.filter2D() to perform 2D convolution\n",
    "    \n",
    "    Hint:\n",
    "    + Not needed.\n",
    "    \n",
    "    '''\n",
    "    \n",
    "    #############################\n",
    "    # Start your code from here #\n",
    "    #############################\n",
    "    \n",
    "    # Replace with your code...\n",
    "    \n",
    "    #############################\n",
    "    # End your code here ########\n",
    "    #############################    \n",
    "    \n",
    "    return out_img"
   ]
  },
  {
   "cell_type": "code",
   "execution_count": null,
   "metadata": {},
   "outputs": [],
   "source": [
    "def gaussianFilter(img, kernel_size=7, sigma=3):\n",
    "    '''\n",
    "    Write a program to implement gaussian filter. You have to assume square kernels.\n",
    "    \n",
    "    Inputs:\n",
    "    + img - grayscaled image of size N x N\n",
    "          - values between [0, 255] - 'uint8'\n",
    "    + kernel_size - size of the kernel window which should be used for smoothing. \n",
    "    + sigma - sigma parameter for gaussian kernel\n",
    "    \n",
    "    Ouputs:\n",
    "    + out_img - smoothed grayscaled image of size N x N\n",
    "              - values between [0, 255] - 'uint8'\n",
    "    \n",
    "    Allowed modules:\n",
    "    + Basic numpy operations\n",
    "    + cv2.filter2D() to perform 2D convolution\n",
    "    + cv2.getGaussianKernel(). Note that this will give you 1D gaussian.\n",
    "    \n",
    "    Hint:\n",
    "    + Not needed.\n",
    "    \n",
    "    '''\n",
    "    \n",
    "    #############################\n",
    "    # Start your code from here #\n",
    "    #############################\n",
    "    \n",
    "    # Replace with your code...\n",
    "    \n",
    "    #############################\n",
    "    # End your code here ########\n",
    "    #############################    \n",
    "    \n",
    "    return out_img"
   ]
  },
  {
   "cell_type": "code",
   "execution_count": null,
   "metadata": {},
   "outputs": [],
   "source": [
    "def medianFilter(img, kernel_size=7):\n",
    "    '''\n",
    "    Write a program to implement median filter. You have to assume square kernels.\n",
    "    \n",
    "    Inputs:\n",
    "    + img - grayscaled image of size N x N\n",
    "          - values between [0, 255] - 'uint8'\n",
    "    + kernel_size - size of the kernel window which should be used for smoothing.\n",
    "    \n",
    "    Ouputs:\n",
    "    + out_img - smoothed grayscaled image of size N x N\n",
    "              - values between [0, 255] - 'uint8'\n",
    "    \n",
    "    Allowed modules:\n",
    "    + Basic numpy operations\n",
    "    + np.median()\n",
    "    \n",
    "    Hint:\n",
    "    + Not needed.\n",
    "    \n",
    "    '''\n",
    "    \n",
    "    #############################\n",
    "    # Start your code from here #\n",
    "    #############################\n",
    "    \n",
    "    # Replace with your code...\n",
    "    \n",
    "    #############################\n",
    "    # End your code here ########\n",
    "    #############################\n",
    "    \n",
    "    return out_img"
   ]
  },
  {
   "cell_type": "markdown",
   "metadata": {},
   "source": [
    "### Test\n",
    "\n",
    "---\n",
    "Your observation should compare the different methods for different images. Must include a sentence on which method + kernel size worked best in each case."
   ]
  },
  {
   "cell_type": "code",
   "execution_count": null,
   "metadata": {},
   "outputs": [],
   "source": [
    "# Do not change codes inside this cell\n",
    "# Add your observations in next to next cell\n",
    "# Your observation should compare the different methods for different images\n",
    "\n",
    "lena_orig = cv2.imread('data/lena_gray.jpg', 0)\n",
    "lena_noisy_1 = cv2.imread('data/lena_noisy_1.jpg', 0)\n",
    "lena_noisy_2 = cv2.imread('data/lena_noisy_2.jpg', 0)\n",
    "lena_noisy_3 = cv2.imread('data/lena_noisy_3.jpg', 0)\n",
    "\n",
    "def plot_frame(gridx, gridy, subplot_id, img, name):\n",
    "    plt.subplot(gridx, gridy, 1 + int(subplot_id))\n",
    "    plt.imshow(np.uint8(img), cmap=\"gray\", vmin=0, vmax=255)\n",
    "    plt.axis(\"off\")\n",
    "    plt.title(name)"
   ]
  },
  {
   "cell_type": "code",
   "execution_count": null,
   "metadata": {
    "scrolled": false
   },
   "outputs": [],
   "source": [
    "# Do not change codes inside this cell\n",
    "# Add your observations in next cell\n",
    "\n",
    "img_arr = [lena_noisy_1, lena_noisy_2, lena_noisy_3]\n",
    "img_caption = [\"Noisy 1\", \"Noisy 2\", \"Noisy 3\"]\n",
    "\n",
    "for i in range(3):\n",
    "    for kernel_size in [5, 7, 9]:\n",
    "        print(\"\\n-------------------------------------\")\n",
    "        print(\"#   Lena\", img_caption[i], \"| kernel:\", kernel_size, \"x\", kernel_size)\n",
    "        print(\"-------------------------------------\")\n",
    "\n",
    "        plt.figure(figsize=(20, 13))\n",
    "        plot_frame(1, 5, 0, lena_orig, \"Original\")\n",
    "        plot_frame(1, 5, 1, img_arr[i], \"Noisy\")\n",
    "\n",
    "        tmp_img = avgFilter(np.copy(img_arr[i]), kernel_size=kernel_size)\n",
    "        plot_frame(1, 5, 2, tmp_img, \"Avg.\")\n",
    "\n",
    "        tmp_img = gaussianFilter(np.copy(img_arr[i]), kernel_size=kernel_size, sigma=int(kernel_size/5))\n",
    "        plot_frame(1, 5, 3, tmp_img, \"Gaussian.\")\n",
    "\n",
    "        tmp_img = medianFilter(np.copy(img_arr[i]), kernel_size=kernel_size)\n",
    "        plot_frame(1, 5, 4, tmp_img, \"Median.\")\n",
    "\n",
    "        plt.show()"
   ]
  },
  {
   "cell_type": "code",
   "execution_count": null,
   "metadata": {},
   "outputs": [],
   "source": [
    "your_observation = \"\"\"\n",
    "Replace this with your observations.\n",
    "\"\"\"\n",
    "\n",
    "print(your_observation)"
   ]
  },
  {
   "cell_type": "code",
   "execution_count": 60,
   "metadata": {},
   "outputs": [],
   "source": [
    "# Submission >>>>>>>>>>>>>>>>>>>>>\n",
    "# Do not change codes inside this cell.\n",
    "\n",
    "gen_imgs = []\n",
    "img_arr = [lena_noisy_1, lena_noisy_2, lena_noisy_3]\n",
    "\n",
    "for i in range(3):\n",
    "    for kernel_size in [5, 7, 9]:\n",
    "        tmp_img = avgFilter(np.copy(img_arr[i]), kernel_size=kernel_size)\n",
    "        gen_imgs.append(tmp_img)\n",
    "        \n",
    "        tmp_img = gaussianFilter(np.copy(img_arr[i]), kernel_size=kernel_size, sigma=int(kernel_size/5))\n",
    "        gen_imgs.append(tmp_img)\n",
    "        \n",
    "        tmp_img = medianFilter(np.copy(img_arr[i]), kernel_size=kernel_size)\n",
    "        gen_imgs.append(tmp_img)\n",
    "\n",
    "task2_submission = np.array(gen_imgs)"
   ]
  },
  {
   "cell_type": "code",
   "execution_count": null,
   "metadata": {},
   "outputs": [],
   "source": []
  }
 ],
 "metadata": {
  "kernelspec": {
   "display_name": "Python 3",
   "language": "python",
   "name": "python3"
  },
  "language_info": {
   "codemirror_mode": {
    "name": "ipython",
    "version": 3
   },
   "file_extension": ".py",
   "mimetype": "text/x-python",
   "name": "python",
   "nbconvert_exporter": "python",
   "pygments_lexer": "ipython3",
   "version": "3.7.6"
  }
 },
 "nbformat": 4,
 "nbformat_minor": 4
}
