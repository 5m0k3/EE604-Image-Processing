{
 "cells": [
  {
   "cell_type": "code",
   "execution_count": null,
   "metadata": {},
   "outputs": [],
   "source": [
    "# Copyright 2020 IITK EE604A Image Processing. All Rights Reserved.\n",
    "# \n",
    "# Licensed under the MIT License. Use and/or modification of this code outside of EE604 must reference:\n",
    "#\n",
    "# © IITK EE604A Image Processing \n",
    "# https://github.com/ee604/ee604_assignments\n",
    "#\n",
    "# Author: Shashi Kant Gupta, Chiranjeev Prachand and Prof K. S. Venkatesh, Department of Electrical Engineering, IIT Kanpur"
   ]
  },
  {
   "cell_type": "markdown",
   "metadata": {},
   "source": [
    "# Task 3: Image Enhancement III: Sharpening\n",
    "\n",
    "In this task, we will implement unsharp masking in two different forms:\n",
    "1. Using laplacian as mentioned in lecture notes, i.e. $\\dot{f} = \\nabla^2 f$\n",
    "2. Using difference of original and blurred images, i.e. $\\dot{f} = f - f_{blur}$\n",
    "\n",
    "Unsharp masking:\n",
    "$$\n",
    "f = f + A\\dot{f}\n",
    "$$"
   ]
  },
  {
   "cell_type": "code",
   "execution_count": null,
   "metadata": {},
   "outputs": [],
   "source": [
    "%%bash\n",
    "pip install git+https://github.com/ee604/ee604_plugins"
   ]
  },
  {
   "cell_type": "code",
   "execution_count": null,
   "metadata": {},
   "outputs": [],
   "source": [
    "# Importing required libraries\n",
    "\n",
    "import cv2\n",
    "import numpy as np\n",
    "import matplotlib.pyplot as plt\n",
    "\n",
    "from ee604_plugins import download_dataset, cv2_imshow\n",
    "download_dataset(assignment_no=2, task_no=3) # download data for this assignment"
   ]
  },
  {
   "cell_type": "code",
   "execution_count": null,
   "metadata": {},
   "outputs": [],
   "source": [
    "def unsharp_laplacian(img, laplacian_operator, A=1):\n",
    "    '''\n",
    "    Write a program to implement unsharp masking based on laplacian operator.\n",
    "    \n",
    "    Inputs:\n",
    "    + img - grayscaled image of size N x N\n",
    "          - values between [0, 255] - 'uint8'\n",
    "    + laplacian_operator - a 3 x 3 laplacian operator, refer to slides.\n",
    "    + A - strength parameter of unsharp masking\n",
    "    \n",
    "    Ouputs:\n",
    "    + out_img - Unsharp masked grayscaled image of size N x N\n",
    "              - values between [0, 255] - 'uint8'\n",
    "    \n",
    "    Allowed modules:\n",
    "    + Basic numpy operations\n",
    "    + cv2.filter2D() to perform 2D convolution\n",
    "    \n",
    "    Hint:\n",
    "    + Not needed.\n",
    "    \n",
    "    '''\n",
    "    \n",
    "    #############################\n",
    "    # Start your code from here #\n",
    "    #############################\n",
    "    \n",
    "    # Replace with your code...\n",
    "    \n",
    "    #############################\n",
    "    # End your code here ########\n",
    "    #############################    \n",
    "    \n",
    "    return out_img"
   ]
  },
  {
   "cell_type": "code",
   "execution_count": null,
   "metadata": {},
   "outputs": [],
   "source": [
    "def unsharp_blur(img, blur_kernel=5, A=1):\n",
    "    '''\n",
    "    Write a program to implement unsharp masking based on difference of original and blurred image.\n",
    "    \n",
    "    Inputs:\n",
    "    + img - grayscaled image of size N x N\n",
    "          - values between [0, 255] - 'uint8'\n",
    "    + A - strength parameter of unsharp masking\n",
    "    + blur_kernel - kernel size for gaussian blur operation. \n",
    "                    For gaussian kernel use sigma = nearest integer to (blur_kernel/5)\n",
    "    \n",
    "    Ouputs:\n",
    "    + out_img - Unsharp masked grayscaled image of size N x N\n",
    "              - values between [0, 255] - 'uint8'\n",
    "    \n",
    "    Allowed modules:\n",
    "    + Basic numpy operations\n",
    "    + cv2.GaussianBlur to perform blur operations\n",
    "    \n",
    "    Hint:\n",
    "    + \n",
    "    \n",
    "    '''\n",
    "    \n",
    "    #############################\n",
    "    # Start your code from here #\n",
    "    #############################\n",
    "    \n",
    "    # Replace with your code...\n",
    "    \n",
    "    #############################\n",
    "    # End your code here ########\n",
    "    #############################    \n",
    "    \n",
    "    return out_img"
   ]
  },
  {
   "cell_type": "markdown",
   "metadata": {},
   "source": [
    "### Test\n",
    "\n",
    "---"
   ]
  },
  {
   "cell_type": "code",
   "execution_count": null,
   "metadata": {},
   "outputs": [],
   "source": [
    "# Do not change codes inside this cell\n",
    "# Add your observations in next to next cell\n",
    "# Your observation should compare the different methods for different images\n",
    "\n",
    "car = cv2.imread('data/car_wiki.png', 0)\n",
    "moon = cv2.imread('data/moon.jpg', 0)\n",
    "\n",
    "def plot_frame(gridx, gridy, subplot_id, img, name):\n",
    "    plt.subplot(gridx, gridy, 1 + int(subplot_id))\n",
    "    plt.imshow(np.uint8(img), cmap=\"gray\", vmin=0, vmax=255)\n",
    "    plt.axis(\"off\")\n",
    "    plt.title(name)"
   ]
  },
  {
   "cell_type": "code",
   "execution_count": null,
   "metadata": {
    "scrolled": true
   },
   "outputs": [],
   "source": [
    "img_arr = [car, moon]\n",
    "img_caption = [\"Car\", \"Moon\"]\n",
    "laplacian_operator = np.array([[0, 1, 0], [1, -4, 1], [0, 1, 0]])\n",
    "\n",
    "for i in range(2):\n",
    "    for A in [-2, -1, 1, 2]:\n",
    "        print(\"\\n-------------------------------------\")\n",
    "        print(\"#   \", img_caption[i], \"| A:\", A)\n",
    "        print(\"-------------------------------------\")\n",
    "\n",
    "        fig = plt.figure(figsize=(15, 10))\n",
    "        plot_frame(2, 3, 0, img_arr[i], \"Original\")\n",
    "\n",
    "        tmp_img = unsharp_laplacian(np.copy(img_arr[i]), laplacian_operator, A=A)\n",
    "        plot_frame(2, 3, 1, tmp_img, \"Laplacian\")\n",
    "\n",
    "        j = 0\n",
    "        for kernel_size in [3, 5, 7, 9]:\n",
    "            tmp_img = unsharp_blur(np.copy(img_arr[i]), blur_kernel=kernel_size, A=A)\n",
    "            plot_frame(2, 3, 2+j, tmp_img, \"Blur (\" + str(kernel_size) + \"x\" + str(kernel_size) + \")\")\n",
    "            j += 1\n",
    "        \n",
    "        fig.tight_layout()\n",
    "        plt.show()"
   ]
  },
  {
   "cell_type": "code",
   "execution_count": null,
   "metadata": {},
   "outputs": [],
   "source": [
    "your_observation = \"\"\"\n",
    "Replace this with your observations.\n",
    "\"\"\"\n",
    "\n",
    "print(your_observation)"
   ]
  },
  {
   "cell_type": "code",
   "execution_count": null,
   "metadata": {},
   "outputs": [],
   "source": [
    "# Submission >>>>>>>>>>>>>>>>>>>>>\n",
    "# Do not change codes inside this cell.\n",
    "\n",
    "lap_img = []\n",
    "blur_img = []\n",
    "\n",
    "img_arr = [car, moon]\n",
    "laplacian_operator = np.array([[0, 1, 0], [1, -4, 1], [0, 1, 0]])\n",
    "\n",
    "for i in range(2):\n",
    "    for A in [-2, -1, 1, 2]:\n",
    "        tmp_img = unsharp_laplacian(np.copy(img_arr[i]), laplacian_operator, A=A)\n",
    "        lap_img.append(tmp_img)\n",
    "\n",
    "        j = 0\n",
    "        for kernel_size in [3, 5, 7, 9]:\n",
    "            tmp_img = unsharp_blur(np.copy(img_arr[i]), blur_kernel=kernel_size, A=A)\n",
    "            blur_img.append(tmp_img)\n",
    "            j += 1\n",
    "\n",
    "gen_imgs = lap_img+blur_img\n",
    "task3_submission = np.array(gen_imgs)"
   ]
  },
  {
   "cell_type": "code",
   "execution_count": null,
   "metadata": {},
   "outputs": [],
   "source": []
  }
 ],
 "metadata": {
  "kernelspec": {
   "display_name": "Python 3",
   "language": "python",
   "name": "python3"
  },
  "language_info": {
   "codemirror_mode": {
    "name": "ipython",
    "version": 3
   },
   "file_extension": ".py",
   "mimetype": "text/x-python",
   "name": "python",
   "nbconvert_exporter": "python",
   "pygments_lexer": "ipython3",
   "version": "3.7.6"
  }
 },
 "nbformat": 4,
 "nbformat_minor": 4
}
