{
  "nbformat": 4,
  "nbformat_minor": 0,
  "metadata": {
    "kernelspec": {
      "display_name": "Python 3",
      "language": "python",
      "name": "python3"
    },
    "language_info": {
      "codemirror_mode": {
        "name": "ipython",
        "version": 3
      },
      "file_extension": ".py",
      "mimetype": "text/x-python",
      "name": "python",
      "nbconvert_exporter": "python",
      "pygments_lexer": "ipython3",
      "version": "3.7.6"
    },
    "colab": {
      "name": "Task_1.ipynb",
      "provenance": [],
      "collapsed_sections": []
    }
  },
  "cells": [
    {
      "cell_type": "code",
      "metadata": {
        "id": "WMjxNjn_s07y",
        "colab_type": "code",
        "colab": {}
      },
      "source": [
        "# Copyright 2020 IITK EE604A Image Processing. All Rights Reserved.\n",
        "# \n",
        "# Licensed under the MIT License. Use and/or modification of this code outside of EE604 must reference:\n",
        "#\n",
        "# © IITK EE604A Image Processing \n",
        "# https://github.com/ee604/ee604_assignments\n",
        "#\n",
        "# Author: Shashi Kant Gupta, Chiranjeev Prachand and Prof K. S. Venkatesh, Department of Electrical Engineering, IIT Kanpur"
      ],
      "execution_count": 1,
      "outputs": []
    },
    {
      "cell_type": "markdown",
      "metadata": {
        "id": "i8HEbSSRs079",
        "colab_type": "text"
      },
      "source": [
        "# Task 1: Basic Operation on Images - Number Display\n",
        "\n",
        "In this task, you have to write a simple [Halftoning Program](https://en.wikipedia.org/wiki/Halftone) to create a B&W number display. Aim for this assignment is to check your basic image manipulation skills.\n",
        "\n",
        "Our Number Display should contain **3 digits**. Each digit should be made using **5x3 dot patterns** (Radius of dot patterns should be **25 pixels**. A single digit should enclose within a rectangle of **300x180 pixels**. Your number display should enclose within a rectangle of **300x660 pixel** wide rectangle. There should be a space of **60 pixels** between two digits.\n",
        "\n",
        "**This is how your display should be if N = 123:**\n",
        "\n",
        "![](https://github.com/ee604/ee604_assignments/raw/master/assignment_1/imgs/t1_example.jpg)\n",
        "\n",
        "**Examples of single digits**\n",
        "\n",
        "![](https://github.com/ee604/ee604_assignments/raw/master/assignment_1/imgs/t1_digits.jpg)"
      ]
    },
    {
      "cell_type": "code",
      "metadata": {
        "id": "6D_I2bxks07-",
        "colab_type": "code",
        "colab": {
          "base_uri": "https://localhost:8080/",
          "height": 185
        },
        "outputId": "2cb908a1-c58b-4dd8-a440-e2416b96fa57"
      },
      "source": [
        "%%bash\n",
        "pip install git+https://github.com/ee604/ee604_plugins"
      ],
      "execution_count": 2,
      "outputs": [
        {
          "output_type": "stream",
          "text": [
            "Collecting git+https://github.com/ee604/ee604_plugins\n",
            "  Cloning https://github.com/ee604/ee604_plugins to /tmp/pip-req-build-akyj_bvt\n",
            "Requirement already satisfied (use --upgrade to upgrade): ee604-plugins==0.1.2 from git+https://github.com/ee604/ee604_plugins in /usr/local/lib/python3.6/dist-packages\n",
            "Building wheels for collected packages: ee604-plugins\n",
            "  Building wheel for ee604-plugins (setup.py): started\n",
            "  Building wheel for ee604-plugins (setup.py): finished with status 'done'\n",
            "  Created wheel for ee604-plugins: filename=ee604_plugins-0.1.2-cp36-none-any.whl size=2083 sha256=62058a22d354b1f4756dc5c6677d5a9add630315a3c25006c37a97eb03d14e5d\n",
            "  Stored in directory: /tmp/pip-ephem-wheel-cache-oitk4ug0/wheels/34/a8/1d/ae3b7d209ecde89b4800a47ec55a61e7503bb9548bbb975806\n",
            "Successfully built ee604-plugins\n"
          ],
          "name": "stdout"
        },
        {
          "output_type": "stream",
          "text": [
            "  Running command git clone -q https://github.com/ee604/ee604_plugins /tmp/pip-req-build-akyj_bvt\n"
          ],
          "name": "stderr"
        }
      ]
    },
    {
      "cell_type": "code",
      "metadata": {
        "id": "MKbNxKJ_s08F",
        "colab_type": "code",
        "colab": {}
      },
      "source": [
        "# Importing required libraries\n",
        "\n",
        "import cv2\n",
        "import numpy as np\n",
        "from ee604_plugins import cv2_imshow"
      ],
      "execution_count": 3,
      "outputs": []
    },
    {
      "cell_type": "code",
      "metadata": {
        "id": "qWazTKS3s08J",
        "colab_type": "code",
        "colab": {}
      },
      "source": [
        "def generate_number_display(N=123):\n",
        "    '''\n",
        "    Write your program to generate 3 digit number display as described above. \n",
        "    Digits should be white and background black.\n",
        "    \n",
        "    Inputs:\n",
        "    + N - A '3' digit number to be printed.\n",
        "    \n",
        "    Ouputs:\n",
        "    + out_img - your 300x660 numpy array (of dtype np.uint8) as the display image.\n",
        "              - For white pixel use value = 255\n",
        "              - For black pixel use value = 0\n",
        "    \n",
        "    Allowed external package:\n",
        "    + You can use cv2.circle to draw dots. \n",
        "    + You are not allowed to use any other external package.\n",
        "    \n",
        "    Hint:\n",
        "    + Create a masking array to place white dots across a black 300x660 display image.\n",
        "    \n",
        "    '''\n",
        "    out_img = np.zeros((300, 660), dtype=np.uint8) # Intialise with blank display\n",
        "    \n",
        "    #############################\n",
        "    # Start your code from here #\n",
        "    #############################\n",
        "    \n",
        "    # Sanity check and conversion to string\n",
        "    if N < 10:\n",
        "        N = '00' + str(N)\n",
        "    elif N < 100:\n",
        "        N = '0' + str(N)\n",
        "    else:\n",
        "        N = str(N)\n",
        "\n",
        "    w = 60 # gapt to be given between digits\n",
        "    r = 25 # Radius of circle\n",
        "    pattern = {} # Dictionary to store the digit pattern\n",
        "    \n",
        "    pattern['0'] = [[1,1,1],[1,0,1],[1,0,1],[1,0,1],[1,1,1]]\n",
        "    pattern['1'] = [[0,1,0],[0,1,0],[0,1,0],[0,1,0],[0,1,0]]\n",
        "    pattern['2'] = [[1,1,1],[0,0,1],[1,1,1],[1,0,0],[1,1,1]]\n",
        "    pattern['3'] = [[1,1,1],[0,0,1],[1,1,1],[0,0,1],[1,1,1]]\n",
        "    pattern['4'] = [[1,0,1],[1,0,1],[1,1,1],[0,0,1],[0,0,1]]\n",
        "    pattern['5'] = [[1,1,1],[1,0,0],[1,1,1],[0,0,1],[1,1,1]]\n",
        "    pattern['6'] = [[1,1,1],[1,0,0],[1,1,1],[1,0,1],[1,1,1]]\n",
        "    pattern['7'] = [[1,1,1],[0,0,1],[0,0,1],[0,0,1],[0,0,1]]\n",
        "    pattern['8'] = [[1,1,1],[1,0,1],[1,1,1],[1,0,1],[1,1,1]]\n",
        "    pattern['9'] = [[1,1,1],[1,0,1],[1,1,1],[0,0,1],[1,1,1]]\n",
        "\n",
        "    x = 0\n",
        "    for num in N:\n",
        "        dig = pattern[num]\n",
        "        for i in range(5):\n",
        "            for j in range(3):\n",
        "                if dig[i][j]:\n",
        "                    centre = (x + 5 + 10*(j) + r + 2*r*j, 5 + 10*(i) + r + 2*r*i)\n",
        "                    out_image = cv2.circle(out_img, centre , r, (255) ,-1)\n",
        "        x += 180 + w\n",
        "    \n",
        "    #############################\n",
        "    # End your code here ########\n",
        "    #############################    \n",
        "    \n",
        "    return np.uint8(out_img)"
      ],
      "execution_count": 4,
      "outputs": []
    },
    {
      "cell_type": "code",
      "metadata": {
        "id": "NpOlWE_Os08N",
        "colab_type": "code",
        "colab": {
          "base_uri": "https://localhost:8080/",
          "height": 317
        },
        "outputId": "23e8bb31-ee66-44db-d725-b18b02121d4b"
      },
      "source": [
        "# Test Run\n",
        "img = generate_number_display()\n",
        "cv2_imshow(img)"
      ],
      "execution_count": 5,
      "outputs": [
        {
          "output_type": "display_data",
          "data": {
            "image/png": "[encoded data removed]",
            "text/plain": [
              "<PIL.Image.Image image mode=L size=660x300 at 0x7FCA6E002898>"
            ]
          },
          "metadata": {
            "tags": []
          }
        }
      ]
    },
    {
      "cell_type": "code",
      "metadata": {
        "id": "SQx0KGcJs08S",
        "colab_type": "code",
        "colab": {}
      },
      "source": [
        "# Submission >>>>>>>>>>>>>>>>>>>>>\n",
        "# Do not change codes inside this cell otherwise our autograder will fail.\n",
        "\n",
        "test_numbers = [604, 987, 645, 159, 963, 248]\n",
        "\n",
        "gen_imgs = []\n",
        "for N in test_numbers:\n",
        "    gen_imgs.append(generate_number_display(N=N))\n",
        "    \n",
        "task1_submission = np.array(gen_imgs)"
      ],
      "execution_count": 6,
      "outputs": []
    },
    {
      "cell_type": "code",
      "metadata": {
        "id": "ZWtUhmpj3PjP",
        "colab_type": "code",
        "colab": {}
      },
      "source": [
        ""
      ],
      "execution_count": 6,
      "outputs": []
    }
  ]
}